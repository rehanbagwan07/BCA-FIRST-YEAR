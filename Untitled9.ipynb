{
 "cells": [
  {
   "cell_type": "code",
   "execution_count": null,
   "id": "97c62a78-388d-456f-ae86-8f040ac78847",
   "metadata": {},
   "outputs": [],
   "source": [
    "Assignment Operation"
   ]
  },
  {
   "cell_type": "code",
   "execution_count": 1,
   "id": "783f444f-0368-4d22-87df-1fa1674af862",
   "metadata": {},
   "outputs": [],
   "source": [
    "name=\"Rehan Bagwan\""
   ]
  },
  {
   "cell_type": "code",
   "execution_count": 2,
   "id": "f43bed9f-6d74-43df-a723-20873a8e673e",
   "metadata": {},
   "outputs": [
    {
     "data": {
      "text/plain": [
       "'Rehan Bagwan'"
      ]
     },
     "execution_count": 2,
     "metadata": {},
     "output_type": "execute_result"
    }
   ],
   "source": [
    "name"
   ]
  },
  {
   "cell_type": "code",
   "execution_count": 3,
   "id": "cab9828c-3f9e-486f-a522-b4e781159a11",
   "metadata": {},
   "outputs": [],
   "source": [
    "# Convert it into capslock\n",
    "# REHAN BAGWAN"
   ]
  },
  {
   "cell_type": "code",
   "execution_count": 4,
   "id": "859f1723-5c2c-4844-b071-3ad3a19e8cc0",
   "metadata": {},
   "outputs": [
    {
     "data": {
      "text/plain": [
       "'REHAN BAGWAN'"
      ]
     },
     "execution_count": 4,
     "metadata": {},
     "output_type": "execute_result"
    }
   ],
   "source": [
    "name .upper()"
   ]
  },
  {
   "cell_type": "code",
   "execution_count": 5,
   "id": "d3cc1a10-238a-4c0a-a692-17799885f812",
   "metadata": {},
   "outputs": [],
   "source": [
    "name =name .upper()"
   ]
  },
  {
   "cell_type": "code",
   "execution_count": 6,
   "id": "fd2e8bd2-c0c9-46c2-9612-466bb358dcc7",
   "metadata": {},
   "outputs": [
    {
     "data": {
      "text/plain": [
       "'REHAN BAGWAN'"
      ]
     },
     "execution_count": 6,
     "metadata": {},
     "output_type": "execute_result"
    }
   ],
   "source": [
    "name"
   ]
  },
  {
   "cell_type": "code",
   "execution_count": 7,
   "id": "c41e8f86-c1a4-4378-a77c-19602f059943",
   "metadata": {},
   "outputs": [
    {
     "data": {
      "text/plain": [
       "'rehan bagwan'"
      ]
     },
     "execution_count": 7,
     "metadata": {},
     "output_type": "execute_result"
    }
   ],
   "source": [
    "name .lower()"
   ]
  },
  {
   "cell_type": "code",
   "execution_count": 8,
   "id": "380fcb8a-afe0-425d-8877-03823bb9a3f8",
   "metadata": {},
   "outputs": [],
   "source": [
    "name =name .lower()"
   ]
  },
  {
   "cell_type": "code",
   "execution_count": 9,
   "id": "b5d03640-6f51-41fe-a7a5-fc0735103888",
   "metadata": {},
   "outputs": [
    {
     "data": {
      "text/plain": [
       "'rehan bagwan'"
      ]
     },
     "execution_count": 9,
     "metadata": {},
     "output_type": "execute_result"
    }
   ],
   "source": [
    "name"
   ]
  },
  {
   "cell_type": "code",
   "execution_count": 10,
   "id": "10bf8cfb-a691-4047-8c59-c3029a429992",
   "metadata": {},
   "outputs": [],
   "source": [
    "name1= \"REhAn BagWAn\""
   ]
  },
  {
   "cell_type": "code",
   "execution_count": 11,
   "id": "e5f525f3-8aab-4ca6-9006-1fe15ef5ab6b",
   "metadata": {},
   "outputs": [],
   "source": [
    "# Capital letter should become small and vice versa"
   ]
  },
  {
   "cell_type": "code",
   "execution_count": 15,
   "id": "b8059541-0fed-4c1a-a182-f46b5414eac1",
   "metadata": {},
   "outputs": [
    {
     "data": {
      "text/plain": [
       "'reHaN bAGwaN'"
      ]
     },
     "execution_count": 15,
     "metadata": {},
     "output_type": "execute_result"
    }
   ],
   "source": [
    "name1.swapcase()"
   ]
  },
  {
   "cell_type": "code",
   "execution_count": 22,
   "id": "436f34fa-72d1-48cb-8633-fd98fd4138aa",
   "metadata": {},
   "outputs": [],
   "source": [
    "name2=\"  Rehan   Bagwan  \""
   ]
  },
  {
   "cell_type": "code",
   "execution_count": 23,
   "id": "61e38153-665f-4c48-a8f6-35ef65d4b33c",
   "metadata": {},
   "outputs": [
    {
     "data": {
      "text/plain": [
       "'  Rehan   Bagwan  '"
      ]
     },
     "execution_count": 23,
     "metadata": {},
     "output_type": "execute_result"
    }
   ],
   "source": [
    "name2"
   ]
  },
  {
   "cell_type": "code",
   "execution_count": 24,
   "id": "11fde921-b715-4044-9135-4cd639d623c5",
   "metadata": {},
   "outputs": [],
   "source": [
    "#1. remove leftspace\n",
    "#2. remove rightspace\n",
    "#3. remove both left and right space"
   ]
  },
  {
   "cell_type": "code",
   "execution_count": 25,
   "id": "5d5fae85-b5cb-4d9b-9a7d-3478634b8b9d",
   "metadata": {},
   "outputs": [
    {
     "data": {
      "text/plain": [
       "'Rehan   Bagwan  '"
      ]
     },
     "execution_count": 25,
     "metadata": {},
     "output_type": "execute_result"
    }
   ],
   "source": [
    "name2.lstrip()"
   ]
  },
  {
   "cell_type": "code",
   "execution_count": 26,
   "id": "4b4f0eb4-1ba2-4aaf-aaf2-5484fccdcf0e",
   "metadata": {},
   "outputs": [
    {
     "data": {
      "text/plain": [
       "'  Rehan   Bagwan'"
      ]
     },
     "execution_count": 26,
     "metadata": {},
     "output_type": "execute_result"
    }
   ],
   "source": [
    "name2.rstrip()"
   ]
  },
  {
   "cell_type": "code",
   "execution_count": 30,
   "id": "a365af83-8869-432c-8b0a-d8581d7a257f",
   "metadata": {},
   "outputs": [
    {
     "data": {
      "text/plain": [
       "'Rehan   Bagwan'"
      ]
     },
     "execution_count": 30,
     "metadata": {},
     "output_type": "execute_result"
    }
   ],
   "source": [
    "name2.strip()"
   ]
  },
  {
   "cell_type": "code",
   "execution_count": 47,
   "id": "c9d382f6-ad1a-4fd6-b966-0d385fc97cf4",
   "metadata": {},
   "outputs": [],
   "source": [
    "name3=\" Rehan Bagwan \""
   ]
  },
  {
   "cell_type": "code",
   "execution_count": 48,
   "id": "e3987b88-51df-445b-9fe6-49670c134741",
   "metadata": {},
   "outputs": [
    {
     "data": {
      "text/plain": [
       "' Rehan Bagwan '"
      ]
     },
     "execution_count": 48,
     "metadata": {},
     "output_type": "execute_result"
    }
   ],
   "source": [
    "name3"
   ]
  },
  {
   "cell_type": "code",
   "execution_count": 49,
   "id": "caa8a93d-dd3b-4642-8edd-92890c70de44",
   "metadata": {},
   "outputs": [
    {
     "data": {
      "text/plain": [
       "'****************** Rehan Bagwan ******************'"
      ]
     },
     "execution_count": 49,
     "metadata": {},
     "output_type": "execute_result"
    }
   ],
   "source": [
    "name3.center(50,'*')"
   ]
  },
  {
   "cell_type": "code",
   "execution_count": 50,
   "id": "cb6354d1-da78-4c18-a9ad-bc680fb3d726",
   "metadata": {},
   "outputs": [],
   "source": [
    "name4=\"Rehan Bagwan\""
   ]
  },
  {
   "cell_type": "code",
   "execution_count": 51,
   "id": "04ff2b84-c7ac-475b-8523-e75712d03e1f",
   "metadata": {},
   "outputs": [
    {
     "data": {
      "text/plain": [
       "False"
      ]
     },
     "execution_count": 51,
     "metadata": {},
     "output_type": "execute_result"
    }
   ],
   "source": [
    "name4.islower()"
   ]
  },
  {
   "cell_type": "code",
   "execution_count": 54,
   "id": "252ad12a-5964-49c2-81bf-89dce69fb31a",
   "metadata": {},
   "outputs": [],
   "source": [
    "name5=\"rehan\""
   ]
  },
  {
   "cell_type": "code",
   "execution_count": 56,
   "id": "ce4dc0d3-4e9b-4394-b7dc-078e61392ab8",
   "metadata": {},
   "outputs": [
    {
     "data": {
      "text/plain": [
       "True"
      ]
     },
     "execution_count": 56,
     "metadata": {},
     "output_type": "execute_result"
    }
   ],
   "source": [
    "name5.islower()"
   ]
  },
  {
   "cell_type": "code",
   "execution_count": 57,
   "id": "7ed6d81e-cee4-47f8-9b73-afa3cf5b5e71",
   "metadata": {},
   "outputs": [
    {
     "data": {
      "text/plain": [
       "False"
      ]
     },
     "execution_count": 57,
     "metadata": {},
     "output_type": "execute_result"
    }
   ],
   "source": [
    "name4.isupper()"
   ]
  },
  {
   "cell_type": "code",
   "execution_count": 59,
   "id": "2490e426-1140-4324-bf11-8c6b02e13b7e",
   "metadata": {},
   "outputs": [],
   "source": [
    "name6= \"REHAN\""
   ]
  },
  {
   "cell_type": "raw",
   "id": "434494b9-24fc-4e3d-8463-de1d7f3912a4",
   "metadata": {},
   "source": [
    "name"
   ]
  },
  {
   "cell_type": "code",
   "execution_count": 60,
   "id": "817b7997-57ae-4e32-8eb7-1fde37cfb368",
   "metadata": {},
   "outputs": [
    {
     "data": {
      "text/plain": [
       "False"
      ]
     },
     "execution_count": 60,
     "metadata": {},
     "output_type": "execute_result"
    }
   ],
   "source": [
    "name6.isspace()"
   ]
  },
  {
   "cell_type": "code",
   "execution_count": null,
   "id": "3af1542c-2508-4def-aa29-20af02f16255",
   "metadata": {},
   "outputs": [],
   "source": []
  }
 ],
 "metadata": {
  "kernelspec": {
   "display_name": "Python 3 (ipykernel)",
   "language": "python",
   "name": "python3"
  },
  "language_info": {
   "codemirror_mode": {
    "name": "ipython",
    "version": 3
   },
   "file_extension": ".py",
   "mimetype": "text/x-python",
   "name": "python",
   "nbconvert_exporter": "python",
   "pygments_lexer": "ipython3",
   "version": "3.12.4"
  }
 },
 "nbformat": 4,
 "nbformat_minor": 5
}
